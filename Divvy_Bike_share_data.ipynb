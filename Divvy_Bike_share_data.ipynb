{
  "nbformat": 4,
  "nbformat_minor": 0,
  "metadata": {
    "colab": {
      "name": "Divvy Bike share data.ipynb",
      "provenance": [],
      "collapsed_sections": [],
      "include_colab_link": true
    },
    "kernelspec": {
      "display_name": "Python 3",
      "language": "python",
      "name": "python3"
    },
    "language_info": {
      "codemirror_mode": {
        "name": "ipython",
        "version": 3
      },
      "file_extension": ".py",
      "mimetype": "text/x-python",
      "name": "python",
      "nbconvert_exporter": "python",
      "pygments_lexer": "ipython3",
      "version": "3.7.6"
    }
  },
  "cells": [
    {
      "cell_type": "markdown",
      "metadata": {
        "id": "view-in-github",
        "colab_type": "text"
      },
      "source": [
        "<a href=\"https://colab.research.google.com/github/Amakudegloria/Divvy-Bike-Share-Analysis-Python/blob/master/Divvy_Bike_share_data.ipynb\" target=\"_parent\"><img src=\"https://colab.research.google.com/assets/colab-badge.svg\" alt=\"Open In Colab\"/></a>"
      ]
    },
    {
      "cell_type": "markdown",
      "metadata": {
        "id": "pXaEdYrsqNAJ"
      },
      "source": [
        "#**Divvy Bike Share**\n",
        "Over the past decade, bicycle-sharing systems have been growing in number and popularity in cities across the world. Bicycle-sharing systems allow users to rent bicycles for short trips, typically 30 minutes or less. With the latest technologies, it is easy for a user to access a dock within the system and unlock or return bicycles. These technologies also provide a wealth of data that can be used to explore how these bike-sharing systems are used.\n",
        "\n",
        "In this project, I will perform an exploratory analysis on data provided by Divvy, a bike-share system provider for many major cities in the United States. I will compare the system usage between three large cities: New York City, Chicago, and Washington, DC. I will also see if there are any differences within each system for those users that are registered, regular users and those users that are short-term, casual users."
      ]
    },
    {
      "cell_type": "markdown",
      "metadata": {
        "id": "SbPPqeaFqz1y"
      },
      "source": [
        "Let us start by asking questions we might want to understand about the bike share data. Such as; What kinds of information would we want to know in order to make smarter business decisions?\n",
        "\n",
        "1. which month has the most bike usage?\n",
        "2. On which particularly day/week of the month do our users use the bike most?\n",
        "3. which day of the week do the users use the bike most?\n",
        "4. On which hour of day do we have the most users ?\n",
        "5. What is our most common start station?\n",
        "6. What is the most frequent trip (i.e., most frequent combination of start station and end station)?\n",
        "7. What is the overall travel time so far?\n",
        "8. What is the Average travel time so far?\n",
        "9. What are the various User Types and their Trip Durations.\n",
        "10. gender and age distribution of Users.\n",
        "\n",
        "\n"
      ]
    },
    {
      "cell_type": "markdown",
      "metadata": {
        "id": "MXTpjzz-rqM0"
      },
      "source": [
        "## **Data Wrangling**\n",
        "Now it's time to collect and explore our data."
      ]
    },
    {
      "cell_type": "code",
      "metadata": {
        "id": "Bl-CiraU2bNX"
      },
      "source": [
        "# Import necessary packages\n",
        "import pandas as pd\n",
        "import numpy as np\n",
        "import calendar\n",
        "import datetime\n",
        "import random\n",
        "import statistics\n",
        "import scipy\n",
        "from scipy import stats\n",
        "import matplotlib.pyplot as plt\n",
        "import seaborn as sns\n",
        "import matplotlib.style as style\n",
        "style.use('seaborn-pastel')\n",
        "sns.set_style('whitegrid')\n",
        "sns.set_context('paper')\n",
        "%matplotlib inline\n",
        "from dateutil.relativedelta import relativedelta"
      ],
      "execution_count": null,
      "outputs": []
    },
    {
      "cell_type": "markdown",
      "metadata": {
        "id": "g8K36woWr75W"
      },
      "source": [
        "# **Exploratory Data Analysis**\n"
      ]
    },
    {
      "cell_type": "markdown",
      "metadata": {
        "id": "i9kJGOtDnt_m"
      },
      "source": [
        "# Chicago data"
      ]
    },
    {
      "cell_type": "code",
      "metadata": {
        "id": "pdmPrMUant_m"
      },
      "source": [
        "#Now lets have a look at the dataset\n",
        "chicago_df = pd.read_csv('https://github.com/Amakudegloria/US-Bike-Share-Analysis-Python/blob/master/chicago.csv?raw=true')\n",
        "\n",
        "#looking at the dataset we can find column names with white spaces and uppercase characters. Let's remove them and convert them to lower case\n",
        "chicago_df.columns = [n.lower().replace(' ', '_') for n in chicago_df.columns]\n",
        "\n"
      ],
      "execution_count": null,
      "outputs": []
    },
    {
      "cell_type": "markdown",
      "metadata": {
        "id": "T9t7D6lFnt_1"
      },
      "source": [
        "# New york city data\n",
        "We can do the same for the New york city data."
      ]
    },
    {
      "cell_type": "code",
      "metadata": {
        "id": "zWcNrh6Xnt_2"
      },
      "source": [
        "## Import file into pandas dataframe\n",
        "new_york_city_df = pd.read_csv('https://github.com/Amakudegloria/US-Bike-Share-Analysis-Python/blob/master/new_york_city.csv?raw=true')\n",
        "\n",
        "new_york_city_df.columns = [n.lower().replace(' ', '_') for n in new_york_city_df.columns]\n",
        "\n",
        "\n",
        "# Display first few rows"
      ],
      "execution_count": null,
      "outputs": []
    },
    {
      "cell_type": "markdown",
      "metadata": {
        "id": "tb71cKtAnt_v"
      },
      "source": [
        "#Washington data\n",
        "As we do the same, notice that this dataset has no information on the user's Birth year, so we can ignore this for now."
      ]
    },
    {
      "cell_type": "code",
      "metadata": {
        "id": "myWMfSZMnt_w"
      },
      "source": [
        "washington_df = pd.read_csv('https://github.com/Amakudegloria/US-Bike-Share-Analysis-Python/blob/master/washington.csv?raw=true')\n",
        "washington_df.columns = [n.lower().replace(' ', '_') for n in washington_df.columns]"
      ],
      "execution_count": null,
      "outputs": []
    },
    {
      "cell_type": "code",
      "metadata": {
        "id": "wRc-t8b_nt_-"
      },
      "source": [
        "# Then let's concatinate all three datasets one logical data set.\n",
        "Bike_share_df = pd.concat([chicago_df, washington_df, new_york_city_df])\n",
        "\n",
        " "
      ],
      "execution_count": null,
      "outputs": []
    },
    {
      "cell_type": "markdown",
      "metadata": {
        "id": "LyogiFGPnuAA"
      },
      "source": [
        "#Converting to DateTime\n",
        "We can convert the dates from strings to a datetime object. Once the dates are converted to a datetime object, we can easily customize the dates and work with data across various timeframes (e.g. daily, monthly, yearly) "
      ]
    },
    {
      "cell_type": "code",
      "metadata": {
        "id": "DgneFMTunuAB"
      },
      "source": [
        "#Convert start time to DateTime\n",
        "Bike_share_df['start_time'] = Bike_share_df['start_time'].map(pd.to_datetime)\n",
        "\n",
        "#Convert end time to DateTime\n",
        "Bike_share_df['end_time'] = Bike_share_df['end_time'].map(pd.to_datetime)\n"
      ],
      "execution_count": null,
      "outputs": []
    },
    {
      "cell_type": "markdown",
      "metadata": {
        "id": "JWaQ_dObnuAG"
      },
      "source": [
        "## **Question 1**\n",
        "In which month do we have the most usage of our bikes?\n",
        "\n",
        "**Answer**: The most common month is **June**"
      ]
    },
    {
      "cell_type": "code",
      "metadata": {
        "colab": {
          "base_uri": "https://localhost:8080/"
        },
        "id": "oTcQZfWGnuAG",
        "outputId": "7fc7be39-34e4-46ad-e01f-5247860cd7a0"
      },
      "source": [
        "#Created a seperate column for month which was extracted from the start time date\n",
        "Bike_share_df['month'] = Bike_share_df['start_time'].dt.month\n",
        "\n",
        "#Find the most common month\n",
        "common_month = Bike_share_df['month'].mode()[0]\n",
        "\n",
        "#And a seperate column for month name which was also extracted from the start time date\n",
        "Bike_share_df['month_name'] = Bike_share_df['month'].apply(lambda x: calendar.month_name[x])\n",
        "\n",
        "#Find and print the most common month name\n",
        "common_month_name = Bike_share_df['month_name'].mode()[0]\n",
        "print(\"The most common month is: {}\".format(common_month_name))"
      ],
      "execution_count": null,
      "outputs": [
        {
          "output_type": "stream",
          "text": [
            "The most common month is: June\n"
          ],
          "name": "stdout"
        }
      ]
    },
    {
      "cell_type": "markdown",
      "metadata": {
        "id": "i8U0-zzsnuAO"
      },
      "source": [
        "#**Question 2**\n",
        " on which particularly date do we have the most usage of our bikes?\n",
        "\n",
        " **Answer**: The most common day of the week is **21**"
      ]
    },
    {
      "cell_type": "code",
      "metadata": {
        "colab": {
          "base_uri": "https://localhost:8080/"
        },
        "id": "_gPepK7wnuAP",
        "outputId": "c900c98d-68fb-466f-d715-33e6c5c59180"
      },
      "source": [
        "#Also let's create a seperate column for day which we will extract from the start time \n",
        "Bike_share_df['day'] = Bike_share_df['start_time'].dt.day\n",
        "\n",
        "#Find the most common day \n",
        "common_day = Bike_share_df['day'].mode()[0]\n",
        "\n",
        "print(\"The most common day of the week is: {}\".format(common_day))"
      ],
      "execution_count": null,
      "outputs": [
        {
          "output_type": "stream",
          "text": [
            "The most common day of the week is: 21\n"
          ],
          "name": "stdout"
        }
      ]
    },
    {
      "cell_type": "markdown",
      "metadata": {
        "id": "QuGp0chFnuAU"
      },
      "source": [
        "#**Question 3**\n",
        "which days of the week do our users use the bike most?\n",
        "\n",
        "**Answer**: The most common weekday is **Wednesday**"
      ]
    },
    {
      "cell_type": "code",
      "metadata": {
        "colab": {
          "base_uri": "https://localhost:8080/"
        },
        "id": "NLAuiGdinuAU",
        "outputId": "1fdcc204-3a77-4c66-e912-8306c220c18d"
      },
      "source": [
        "#Again we create a seperate column for weekday which was extracted from the start time \n",
        "Bike_share_df['weekday']= Bike_share_df['start_time'].dt.day_name()\n",
        "\n",
        "common_weekday = Bike_share_df['weekday'].mode()[0]\n",
        "print(\"The most common weekday is: {}\".format(common_weekday))"
      ],
      "execution_count": null,
      "outputs": [
        {
          "output_type": "stream",
          "text": [
            "The most common weekday is: Wednesday\n"
          ],
          "name": "stdout"
        }
      ]
    },
    {
      "cell_type": "markdown",
      "metadata": {
        "id": "nLvtyWbAnuAa"
      },
      "source": [
        "#**Question 4**\n",
        "On which hour of the day do we have the most users ?\n",
        "\n",
        "**Answer**: The most common hour of the day is **8am**"
      ]
    },
    {
      "cell_type": "code",
      "metadata": {
        "colab": {
          "base_uri": "https://localhost:8080/"
        },
        "id": "LInSRjdznuAa",
        "outputId": "0b91e1f0-36b4-4fba-c98f-c80569de3214"
      },
      "source": [
        "#Finally let's create another column for hour which we will extract from the start time date\n",
        "\n",
        "Bike_share_df['hour'] = Bike_share_df['start_time'].dt.hour\n",
        "\n",
        "common_hour = Bike_share_df['hour'].mode()[0]\n",
        "print(\"The most common hour of the day is: {}\".format(common_hour))"
      ],
      "execution_count": null,
      "outputs": [
        {
          "output_type": "stream",
          "text": [
            "The most common hour of the day is: 8\n"
          ],
          "name": "stdout"
        }
      ]
    },
    {
      "cell_type": "markdown",
      "metadata": {
        "id": "xdSiQbrCnuAg"
      },
      "source": [
        "#**Question 5**\n",
        "What is our most common start station?\n",
        "\n",
        "**Answer**: The most common start station is **Streeter Dr & Grand Ave**"
      ]
    },
    {
      "cell_type": "code",
      "metadata": {
        "colab": {
          "base_uri": "https://localhost:8080/"
        },
        "id": "8DHx-82fnuAg",
        "outputId": "d9c3577e-3ef7-4638-9dfc-b3e81da177de"
      },
      "source": [
        "common_start_station = Bike_share_df['start_station'].mode()[0]\n",
        "\n",
        "print(\"The most common start station is: {}\".format(common_start_station))"
      ],
      "execution_count": null,
      "outputs": [
        {
          "output_type": "stream",
          "text": [
            "The most common start station is: Streeter Dr & Grand Ave\n"
          ],
          "name": "stdout"
        }
      ]
    },
    {
      "cell_type": "markdown",
      "metadata": {
        "id": "XykSi3WXnuAh"
      },
      "source": [
        "#**Question 6**\n",
        "What is our most common end station?\n",
        "\n",
        "**Answer**: The most common end station is **Streeter Dr & Grand Ave**"
      ]
    },
    {
      "cell_type": "code",
      "metadata": {
        "colab": {
          "base_uri": "https://localhost:8080/"
        },
        "id": "t7AcdBvInuAi",
        "outputId": "3fe369f2-9160-41dc-b7b0-23ca7bc880a7"
      },
      "source": [
        "common_end_station = Bike_share_df['end_station'].mode()[0]\n",
        "\n",
        "print(\"The most common end_station is: {}\".format(common_end_station))"
      ],
      "execution_count": null,
      "outputs": [
        {
          "output_type": "stream",
          "text": [
            "The most common end_station is: Streeter Dr & Grand Ave\n"
          ],
          "name": "stdout"
        }
      ]
    },
    {
      "cell_type": "markdown",
      "metadata": {
        "id": "ZbNO9pAPnuAn"
      },
      "source": [
        "##** Question 7**\n",
        "What is the most frequent trip (i.e., most frequent combination of start station and end station)?\n",
        "\n",
        "**Answer**: The trip from **Lake Shore Dr & Monroe St** to **Streeter Dr & Grand Ave** is the most frequently occuring."
      ]
    },
    {
      "cell_type": "code",
      "metadata": {
        "colab": {
          "base_uri": "https://localhost:8080/"
        },
        "id": "5rEIRrmQnuAo",
        "outputId": "51145767-8afb-4311-d4da-92365ee23639"
      },
      "source": [
        "#combine both start and end stations to discover user's individual trips\n",
        "Bike_share_df['combined_stations'] = Bike_share_df['start_station'] + \":\" + Bike_share_df['end_station']\n",
        "\n",
        "#find the most occurring trip\n",
        "freq_comb_stations = Bike_share_df['combined_stations'].mode()[0]\n",
        "print(\"The most common trip from start to end is: {}\".format(freq_comb_stations))"
      ],
      "execution_count": null,
      "outputs": [
        {
          "output_type": "stream",
          "text": [
            "The most common trip from start to end is: Lake Shore Dr & Monroe St:Streeter Dr & Grand Ave\n"
          ],
          "name": "stdout"
        }
      ]
    },
    {
      "cell_type": "markdown",
      "metadata": {
        "id": "j415q-b4nuAs"
      },
      "source": [
        "#**Question 8**\n",
        "What is the overall travel time so far?\n",
        "\n",
        "**Answer**: The total travel time is **15366017.008066665 hours**"
      ]
    },
    {
      "cell_type": "code",
      "metadata": {
        "colab": {
          "base_uri": "https://localhost:8080/"
        },
        "id": "HejME6Z7nuAs",
        "outputId": "7d276978-11ea-47f4-97f6-b6c01fbb88de"
      },
      "source": [
        "#calculate total travel time (in seconds)\n",
        "total_tt_secs = Bike_share_df['trip_duration'].sum()\n",
        "\n",
        "#what is the total travel time in hours\n",
        "total_tt_hour = total_tt_secs/60\n",
        "print(\"The total travel time is: {} hours\".format(total_tt_hour))"
      ],
      "execution_count": null,
      "outputs": [
        {
          "output_type": "stream",
          "text": [
            "The total travel time is: 15366017.008066665 hours\n"
          ],
          "name": "stdout"
        }
      ]
    },
    {
      "cell_type": "markdown",
      "metadata": {
        "id": "XLiPakwDnuAv"
      },
      "source": [
        "#**Question 9**\n",
        "What is the  Average travel time so far?\n",
        "\n",
        "**Answer**: **17 hours** is the average travel time "
      ]
    },
    {
      "cell_type": "code",
      "metadata": {
        "colab": {
          "base_uri": "https://localhost:8080/"
        },
        "id": "uVJKIlN3nuAw",
        "outputId": "b8004c09-5aed-47ae-a9da-c2bd674f5cf3"
      },
      "source": [
        "#calculate average travel time (in seconds)\n",
        "avg_tt_secs = Bike_share_df['trip_duration'].mean()\n",
        "\n",
        "#What is the Average travel time in hours\n",
        "avg_tt_hour = avg_tt_secs/60\n",
        "print(\"The average travel time is: {} hours\".format(avg_tt_hour))"
      ],
      "execution_count": null,
      "outputs": [
        {
          "output_type": "stream",
          "text": [
            "The average travel time is: 17.073352231185456 hours\n"
          ],
          "name": "stdout"
        }
      ]
    },
    {
      "cell_type": "markdown",
      "metadata": {
        "id": "GnIMf2gYnuAz"
      },
      "source": [
        "#**Question 10** \n",
        "Now that we have gained insights about our users and their travel times. Let's expelore each user types\n",
        "\n",
        "What are the various User Types and their counts?\n",
        "\n",
        "**Answer**: \n",
        "Total Usage: 899308\n",
        "\n",
        "Total Subscriber: 728824\n",
        "\n",
        "Total Customer: 170483\n",
        "\n",
        "Total Dependent: 1"
      ]
    },
    {
      "cell_type": "code",
      "metadata": {
        "colab": {
          "base_uri": "https://localhost:8080/"
        },
        "id": "IiPkzUQmpm0y",
        "outputId": "d3922d3f-42b3-4c9e-9c66-91188728bc5d"
      },
      "source": [
        "#What is the total number of Divvy Bike share users \n",
        "Bike_share_df['user_type'].count()"
      ],
      "execution_count": null,
      "outputs": [
        {
          "output_type": "execute_result",
          "data": {
            "text/plain": [
              "899308"
            ]
          },
          "metadata": {
            "tags": []
          },
          "execution_count": 16
        }
      ]
    },
    {
      "cell_type": "code",
      "metadata": {
        "colab": {
          "base_uri": "https://localhost:8080/"
        },
        "id": "g_OWmu1znuAz",
        "outputId": "f930b295-0aaa-447c-9b03-47069ac91f50"
      },
      "source": [
        "#what are the unique user types in our data\n",
        "Bike_share_df['user_type'].nunique()\n",
        "Bike_share_df['user_type'].unique()\n",
        "Bike_share_df['user_type'].value_counts()"
      ],
      "execution_count": null,
      "outputs": [
        {
          "output_type": "execute_result",
          "data": {
            "text/plain": [
              "Subscriber    728824\n",
              "Customer      170483\n",
              "Dependent          1\n",
              "Name: user_type, dtype: int64"
            ]
          },
          "metadata": {
            "tags": []
          },
          "execution_count": 17
        }
      ]
    },
    {
      "cell_type": "code",
      "metadata": {
        "colab": {
          "base_uri": "https://localhost:8080/"
        },
        "id": "HjVOgGv_nuA3",
        "outputId": "f7f67516-5bb4-4a6e-c2ec-d99bc2fa40f0"
      },
      "source": [
        "#Are there any missing values for our user types?\n",
        "Bike_share_df['user_type'].isnull().any()\n",
        "\n",
        "#Now we know there are missing values for our types let's count them\n",
        "Bike_share_df['user_type'].isnull().sum()"
      ],
      "execution_count": null,
      "outputs": [
        {
          "output_type": "execute_result",
          "data": {
            "text/plain": [
              "692"
            ]
          },
          "metadata": {
            "tags": []
          },
          "execution_count": 18
        }
      ]
    },
    {
      "cell_type": "code",
      "metadata": {
        "colab": {
          "base_uri": "https://localhost:8080/"
        },
        "id": "70ZeEFkjnuA9",
        "outputId": "4a6259fb-daa7-4467-e0ae-3b36fa154367"
      },
      "source": [
        "#just another method to count the unique values for our user type using a for loop \n",
        "\n",
        "type_subscriber = 0\n",
        "type_customer = 0\n",
        "type_dependent = 0\n",
        "missing_user_type = 0\n",
        "\n",
        "for x in Bike_share_df['user_type']:\n",
        "    if x == 'Subscriber':\n",
        "        type_subscriber += 1\n",
        "    elif x == 'Customer':\n",
        "        type_customer += 1\n",
        "    elif x == 'Dependent':\n",
        "        type_dependent += 1\n",
        "    else:\n",
        "        missing_user_type += 1\n",
        "        \n",
        "\n",
        "print(\"There are {} Subscriber(s)\".format(type_subscriber))\n",
        "print(\"There are {} Customer(s)\".format(type_customer))\n",
        "print(\"There are {} Dependent(s)\".format(type_dependent))\n",
        "print(\"There are {} missing user types in our dataset\".format(missing_user_type))"
      ],
      "execution_count": null,
      "outputs": [
        {
          "output_type": "stream",
          "text": [
            "There are 728824 Subscriber(s)\n",
            "There are 170483 Customer(s)\n",
            "There are 1 Dependent(s)\n",
            "There are 692 missing user types in our dataset\n"
          ],
          "name": "stdout"
        }
      ]
    },
    {
      "cell_type": "markdown",
      "metadata": {
        "id": "iGef2zlcnuA-"
      },
      "source": [
        "# **Question 11**\n",
        "Diving deeper we can explore the gender of our various users in order to help develop key strategies and target their individual needs(Data only available for NYC and Chicago)"
      ]
    },
    {
      "cell_type": "code",
      "metadata": {
        "id": "I6yUeWfgnuA_"
      },
      "source": [
        "#To concatenate the new york and chicago datasets and create a seperate dataframe\n",
        "\n",
        "NYC_Chicago_df = pd.concat([chicago_df, new_york_city_df])"
      ],
      "execution_count": null,
      "outputs": []
    },
    {
      "cell_type": "code",
      "metadata": {
        "id": "w4J0Kbcu17C6"
      },
      "source": [
        "NYC_Chicago_df['start_time'] = NYC_Chicago_df['start_time'].map(pd.to_datetime)\n",
        "\n",
        "NYC_Chicago_df['end_time'] = NYC_Chicago_df['end_time'].map(pd.to_datetime)\n",
        "\n",
        "NYC_Chicago_df['month'] = NYC_Chicago_df['start_time'].dt.month\n",
        "\n",
        "NYC_Chicago_df['day'] = NYC_Chicago_df['start_time'].dt.day\n"
      ],
      "execution_count": null,
      "outputs": []
    },
    {
      "cell_type": "code",
      "metadata": {
        "colab": {
          "base_uri": "https://localhost:8080/"
        },
        "id": "1POa4eRJnuBA",
        "outputId": "5fe91d9d-ebc8-4c1d-eaff-e1604f68aa31"
      },
      "source": [
        "#we would like to check for the unique gender values in our data\n",
        "NYC_Chicago_df['gender'].unique() #or\n",
        "gender_count = NYC_Chicago_df['gender'].value_counts()\n",
        "\n",
        "#Do we have null values here?\n",
        "NYC_Chicago_df['gender'].isnull().any()\n",
        "\n",
        "#How many? Let's count them.\n",
        "NYC_Chicago_df['gender'].isnull().sum()"
      ],
      "execution_count": null,
      "outputs": [
        {
          "output_type": "execute_result",
          "data": {
            "text/plain": [
              "90261"
            ]
          },
          "metadata": {
            "tags": []
          },
          "execution_count": 22
        }
      ]
    },
    {
      "cell_type": "code",
      "metadata": {
        "colab": {
          "base_uri": "https://localhost:8080/"
        },
        "id": "XZy-xdG6nuBG",
        "outputId": "ab7926d4-f924-44eb-a768-3e65893508d5"
      },
      "source": [
        "#Another way to count the various genders is to use a for loop \n",
        "Male_cust = 0\n",
        "Female_cust = 0\n",
        "nan_gender = 0\n",
        "\n",
        "for x in NYC_Chicago_df['gender']:\n",
        "    if x == 'Male':\n",
        "        Male_cust += 1\n",
        "    elif x == 'Female':\n",
        "        Female_cust += 1\n",
        "    else :\n",
        "        nan_gender += 1\n",
        "\n",
        "print(\"There are {} Males\".format(Male_cust))\n",
        "print(\"There are {} Females\".format(Female_cust))\n",
        "print(\"There are {} missing gender\".format(nan_gender))"
      ],
      "execution_count": null,
      "outputs": [
        {
          "output_type": "stream",
          "text": [
            "There are 385198 Males\n",
            "There are 124541 Females\n",
            "There are 90261 missing gender\n"
          ],
          "name": "stdout"
        }
      ]
    },
    {
      "cell_type": "markdown",
      "metadata": {
        "id": "A0vZKdpBnuBI"
      },
      "source": [
        "#**Question 12 **\n",
        "Great! We now know the genders, it would also be important to know the different age distribution of our users. What are their ages?\n",
        "(only available for NYC and Chicago)"
      ]
    },
    {
      "cell_type": "markdown",
      "metadata": {
        "id": "A3obxN9OnuBJ"
      },
      "source": [
        "## what is the earliest year of birth. What year of birth are our oldest users?\n",
        "**Answer**: Our oldest users were born in the year **1885**"
      ]
    },
    {
      "cell_type": "code",
      "metadata": {
        "colab": {
          "base_uri": "https://localhost:8080/"
        },
        "id": "fjzjuXyinuBK",
        "outputId": "7df62ec5-48b6-4df6-b9f4-8a994d6765e0"
      },
      "source": [
        "Earl_birth_year = NYC_Chicago_df[NYC_Chicago_df['birth_year'] > 0].min()\n",
        "print(\"The earliest birth year is: {}\".format(Earl_birth_year['birth_year']))"
      ],
      "execution_count": null,
      "outputs": [
        {
          "output_type": "stream",
          "text": [
            "The earliest birth year is: 1885.0\n"
          ],
          "name": "stdout"
        }
      ]
    },
    {
      "cell_type": "markdown",
      "metadata": {
        "id": "_L8bW5cBnuBN"
      },
      "source": [
        "##what is the most recent year of birth . What year of birth are our youngest users?\n",
        "\n",
        "Answer: Our youngest users were born in the year **2016**"
      ]
    },
    {
      "cell_type": "code",
      "metadata": {
        "colab": {
          "base_uri": "https://localhost:8080/"
        },
        "id": "5uFHotCtnuBN",
        "outputId": "961c863e-2a52-468a-aaa3-4fd1323586c9"
      },
      "source": [
        "recent_birth_year = NYC_Chicago_df['birth_year'].max()\n",
        "print(\"The most recent birth year is: {}\".format(recent_birth_year))"
      ],
      "execution_count": null,
      "outputs": [
        {
          "output_type": "stream",
          "text": [
            "The most recent birth year is: 2016.0\n"
          ],
          "name": "stdout"
        }
      ]
    },
    {
      "cell_type": "markdown",
      "metadata": {
        "id": "yLmI_ksinuBR"
      },
      "source": [
        "## What is the most reoccurring year of birth? (i.e. the most common year of birth)\n",
        "**Answer**: Majority of our users were born in 1989"
      ]
    },
    {
      "cell_type": "code",
      "metadata": {
        "colab": {
          "base_uri": "https://localhost:8080/"
        },
        "id": "li-utY0qnuBR",
        "outputId": "cbdcc8c9-a833-4574-b3d9-8c9e4cd61d6d"
      },
      "source": [
        "common_year = NYC_Chicago_df['birth_year'].mode()[0]\n",
        "print(\"The most common birth year is: {}\".format(common_year))"
      ],
      "execution_count": null,
      "outputs": [
        {
          "output_type": "stream",
          "text": [
            "The most common birth year is: 1989.0\n"
          ],
          "name": "stdout"
        }
      ]
    },
    {
      "cell_type": "markdown",
      "metadata": {
        "id": "aoc_hIleQ4f_"
      },
      "source": [
        "# **Question 13**\n",
        "Finally, lets write a script that takes in raw input to create an interactive experience in the terminal and returns the expected output.\n",
        "\n",
        "But first let's prepare the dataset for this."
      ]
    },
    {
      "cell_type": "code",
      "metadata": {
        "id": "GZTSN4-onuBU"
      },
      "source": [
        "#Also let's fill all NA values in our Birth year and covert it from float to integer\n",
        "chicago_df['birth_year'] = chicago_df['birth_year'].fillna(0)\n",
        "chicago_df['birth_year'] = chicago_df['birth_year'].astype(int)\n",
        "\n",
        "chicago_df['start_time'] = chicago_df['start_time'].map(pd.to_datetime)\n",
        "\n",
        "chicago_df['end_time'] = chicago_df['end_time'].map(pd.to_datetime)\n",
        "\n",
        "chicago_df['month'] = chicago_df['start_time'].dt.month\n",
        "\n",
        "chicago_df['month_name'] = chicago_df['month'].apply(lambda x: calendar.month_name[x])\n",
        "\n",
        "chicago_df['day'] = chicago_df['start_time'].dt.day\n",
        "\n",
        "chicago_df['weekday']= chicago_df['start_time'].dt.day_name()\n",
        "\n"
      ],
      "execution_count": null,
      "outputs": []
    },
    {
      "cell_type": "code",
      "metadata": {
        "id": "py08ChIhnuBW"
      },
      "source": [
        "\n",
        "washington_df['start_time'] = washington_df['start_time'].map(pd.to_datetime)\n",
        "\n",
        "washington_df['end_time'] = washington_df['end_time'].map(pd.to_datetime)\n",
        "\n",
        "washington_df['month'] = washington_df['start_time'].dt.month\n",
        "\n",
        "washington_df['month_name'] = washington_df['month'].apply(lambda x: calendar.month_name[x])\n",
        "\n",
        "washington_df['day'] = washington_df['start_time'].dt.day\n",
        "\n",
        "washington_df['weekday']= washington_df['start_time'].dt.day_name()\n"
      ],
      "execution_count": null,
      "outputs": []
    },
    {
      "cell_type": "code",
      "metadata": {
        "id": "zKQ40jCXnuBX"
      },
      "source": [
        "new_york_city_df['birth_year'] = new_york_city_df['birth_year'].fillna(0)\n",
        "new_york_city_df['birth_year'] = new_york_city_df['birth_year'].astype(int)\n",
        "\n",
        "\n",
        "new_york_city_df['start_time'] = new_york_city_df['start_time'].map(pd.to_datetime)\n",
        "\n",
        "new_york_city_df['end_time'] = new_york_city_df['end_time'].map(pd.to_datetime)\n",
        "\n",
        "new_york_city_df['month'] = new_york_city_df['start_time'].dt.month\n",
        "\n",
        "new_york_city_df['month_name'] = new_york_city_df['month'].apply(lambda x: calendar.month_name[x])\n",
        "\n",
        "new_york_city_df['day'] = new_york_city_df['start_time'].dt.day\n",
        "\n",
        "new_york_city_df['weekday']= new_york_city_df['start_time'].dt.day_name()"
      ],
      "execution_count": null,
      "outputs": []
    },
    {
      "cell_type": "code",
      "metadata": {
        "colab": {
          "base_uri": "https://localhost:8080/",
          "height": 725
        },
        "id": "btO_x0gcnuBY",
        "outputId": "4035dd52-33e8-422b-af0c-06af8cec0d24"
      },
      "source": [
        "CITY_DATA = { 'chicago': chicago_df,\n",
        "              'new york city': new_york_city_df,\n",
        "              'washington': washington_df}\n",
        "\n",
        "def get_filters():\n",
        "    print(\"Hello! Let\\'s explore some US bikeshare data!\")\n",
        "    city_data = []\n",
        "    \n",
        "    while True:\n",
        "        city = input(\"Which city would you like to explore? \").lower()\n",
        "        if city in CITY_DATA:\n",
        "            city_data = CITY_DATA[city]\n",
        "            break\n",
        "        else:\n",
        "            print(\"Invalid Input. please enter either 'chicago', 'new york city', 'washington'\")\n",
        "            \n",
        "    filter_by = input(\"Would you like to filter the data by month_num, month_name, day, or weekday?\")\n",
        "    if filter_by == 'month_num':\n",
        "        while True:\n",
        "            month_num = int(input(\"Which month would you like to look at (e.g. 1)?\"))\n",
        "            if month_num in range(1,12):\n",
        "                break\n",
        "            else:\n",
        "                print(\"Invalid input. Please enter integer values from 1 to 12\")\n",
        "        city_data =  city_data.query('month == \"{}\"'.format(month_num) )\n",
        "    elif filter_by == 'month_name':\n",
        "        while True:\n",
        "            month_name = input(\"Which month would you like to explore (e.g. January)?\")\n",
        "            if month_name in ('January','February','March','April','May','June', 'July', 'August', 'September', 'October', 'November', 'December'):\n",
        "                break\n",
        "            else:\n",
        "                print(\"Invalid input. Please enter the fullname of the month e.g. June\")\n",
        "        city_data =  city_data.query('month_name == \"{}\"'.format(month_name) )\n",
        "        \n",
        "    elif filter_by == 'day':\n",
        "        while True:\n",
        "            day = int(input(\"which day would you like to explore? Please enter your response as an integer (e.g. 30)\"))\n",
        "            if day in range(1, 31):\n",
        "                break\n",
        "            else:\n",
        "                print(\"Invalid input. Please enter your response as an integer e.g. 30\")\n",
        "        city_data =  city_data.query('day == \"{}\"'.format(day))\n",
        "    elif filter_by == 'weekday':\n",
        "        while True:\n",
        "            weekday = input(\"which weekday would you like to explore? Please type your response (e.g. Sunday): \")\n",
        "            if weekday in ('Monday', 'Tuesday', 'Wednesday', 'Thursday', 'Friday', 'Saturday', 'Sunday'):\n",
        "                break\n",
        "            else:\n",
        "                print(\"Invalid response. Please enter a weekday from Monday - Sunday\")\n",
        "        city_data =  city_data.query('weekday == \"{}\"'.format(weekday))\n",
        "         \n",
        "         \n",
        "    print('='*100)\n",
        "    \n",
        "    return city_data\n",
        "\n",
        "\n",
        "get_filters()"
      ],
      "execution_count": null,
      "outputs": [
        {
          "output_type": "stream",
          "text": [
            "Hello! Let's explore some US bikeshare data!\n",
            "Which city would you like to explore? washington\n",
            "Would you like to filter the data by month_num, month_name, day, or weekday?month_num\n",
            "Which month would you like to look at (e.g. 1)?1\n",
            "====================================================================================================\n"
          ],
          "name": "stdout"
        },
        {
          "output_type": "execute_result",
          "data": {
            "text/html": [
              "<div>\n",
              "<style scoped>\n",
              "    .dataframe tbody tr th:only-of-type {\n",
              "        vertical-align: middle;\n",
              "    }\n",
              "\n",
              "    .dataframe tbody tr th {\n",
              "        vertical-align: top;\n",
              "    }\n",
              "\n",
              "    .dataframe thead th {\n",
              "        text-align: right;\n",
              "    }\n",
              "</style>\n",
              "<table border=\"1\" class=\"dataframe\">\n",
              "  <thead>\n",
              "    <tr style=\"text-align: right;\">\n",
              "      <th></th>\n",
              "      <th>unnamed:_0</th>\n",
              "      <th>start_time</th>\n",
              "      <th>end_time</th>\n",
              "      <th>trip_duration</th>\n",
              "      <th>start_station</th>\n",
              "      <th>end_station</th>\n",
              "      <th>user_type</th>\n",
              "      <th>month</th>\n",
              "      <th>month_name</th>\n",
              "      <th>day</th>\n",
              "      <th>weekday</th>\n",
              "    </tr>\n",
              "  </thead>\n",
              "  <tbody>\n",
              "    <tr>\n",
              "      <th>12</th>\n",
              "      <td>143181</td>\n",
              "      <td>2017-01-26 20:01:00</td>\n",
              "      <td>2017-01-26 20:17:00</td>\n",
              "      <td>951.457</td>\n",
              "      <td>10th St &amp; L'Enfant Plaza SW</td>\n",
              "      <td>1st &amp; Rhode Island Ave NW</td>\n",
              "      <td>Subscriber</td>\n",
              "      <td>1</td>\n",
              "      <td>January</td>\n",
              "      <td>26</td>\n",
              "      <td>Thursday</td>\n",
              "    </tr>\n",
              "    <tr>\n",
              "      <th>13</th>\n",
              "      <td>26953</td>\n",
              "      <td>2017-01-06 17:36:00</td>\n",
              "      <td>2017-01-06 17:43:00</td>\n",
              "      <td>448.628</td>\n",
              "      <td>North Capitol St &amp; F St NW</td>\n",
              "      <td>1st &amp; M St NE</td>\n",
              "      <td>Subscriber</td>\n",
              "      <td>1</td>\n",
              "      <td>January</td>\n",
              "      <td>6</td>\n",
              "      <td>Friday</td>\n",
              "    </tr>\n",
              "    <tr>\n",
              "      <th>31</th>\n",
              "      <td>1999</td>\n",
              "      <td>2017-01-01 14:40:00</td>\n",
              "      <td>2017-01-01 14:44:00</td>\n",
              "      <td>252.871</td>\n",
              "      <td>21st &amp; M St NW</td>\n",
              "      <td>18th &amp; R St NW</td>\n",
              "      <td>Subscriber</td>\n",
              "      <td>1</td>\n",
              "      <td>January</td>\n",
              "      <td>1</td>\n",
              "      <td>Sunday</td>\n",
              "    </tr>\n",
              "    <tr>\n",
              "      <th>35</th>\n",
              "      <td>34042</td>\n",
              "      <td>2017-01-09 12:29:00</td>\n",
              "      <td>2017-01-09 12:48:00</td>\n",
              "      <td>1138.896</td>\n",
              "      <td>TJ Cmty Ctr / 2nd St &amp; S Old Glebe Rd</td>\n",
              "      <td>Shirlington Transit Center / S Quincy &amp; Randol...</td>\n",
              "      <td>Subscriber</td>\n",
              "      <td>1</td>\n",
              "      <td>January</td>\n",
              "      <td>9</td>\n",
              "      <td>Monday</td>\n",
              "    </tr>\n",
              "    <tr>\n",
              "      <th>36</th>\n",
              "      <td>131497</td>\n",
              "      <td>2017-01-25 15:57:00</td>\n",
              "      <td>2017-01-25 18:10:00</td>\n",
              "      <td>7954.191</td>\n",
              "      <td>17th &amp; K St NW</td>\n",
              "      <td>Carlin Springs Rd &amp; N Thomas St</td>\n",
              "      <td>Customer</td>\n",
              "      <td>1</td>\n",
              "      <td>January</td>\n",
              "      <td>25</td>\n",
              "      <td>Wednesday</td>\n",
              "    </tr>\n",
              "    <tr>\n",
              "      <th>...</th>\n",
              "      <td>...</td>\n",
              "      <td>...</td>\n",
              "      <td>...</td>\n",
              "      <td>...</td>\n",
              "      <td>...</td>\n",
              "      <td>...</td>\n",
              "      <td>...</td>\n",
              "      <td>...</td>\n",
              "      <td>...</td>\n",
              "      <td>...</td>\n",
              "      <td>...</td>\n",
              "    </tr>\n",
              "    <tr>\n",
              "      <th>299989</th>\n",
              "      <td>102918</td>\n",
              "      <td>2017-01-20 17:43:00</td>\n",
              "      <td>2017-01-20 17:48:00</td>\n",
              "      <td>284.685</td>\n",
              "      <td>14th &amp; V St NW</td>\n",
              "      <td>15th &amp; P St NW</td>\n",
              "      <td>Subscriber</td>\n",
              "      <td>1</td>\n",
              "      <td>January</td>\n",
              "      <td>20</td>\n",
              "      <td>Friday</td>\n",
              "    </tr>\n",
              "    <tr>\n",
              "      <th>299991</th>\n",
              "      <td>8834</td>\n",
              "      <td>2017-01-03 19:28:00</td>\n",
              "      <td>2017-01-03 19:40:00</td>\n",
              "      <td>714.928</td>\n",
              "      <td>Washington &amp; Independence Ave SW/HHS</td>\n",
              "      <td>3rd &amp; H St NE</td>\n",
              "      <td>Subscriber</td>\n",
              "      <td>1</td>\n",
              "      <td>January</td>\n",
              "      <td>3</td>\n",
              "      <td>Tuesday</td>\n",
              "    </tr>\n",
              "    <tr>\n",
              "      <th>299992</th>\n",
              "      <td>32912</td>\n",
              "      <td>2017-01-09 08:11:00</td>\n",
              "      <td>2017-01-09 08:14:00</td>\n",
              "      <td>191.131</td>\n",
              "      <td>Thomas Circle</td>\n",
              "      <td>17th &amp; K St NW / Farragut Square</td>\n",
              "      <td>Subscriber</td>\n",
              "      <td>1</td>\n",
              "      <td>January</td>\n",
              "      <td>9</td>\n",
              "      <td>Monday</td>\n",
              "    </tr>\n",
              "    <tr>\n",
              "      <th>299994</th>\n",
              "      <td>101489</td>\n",
              "      <td>2017-01-20 14:03:00</td>\n",
              "      <td>2017-01-20 15:11:00</td>\n",
              "      <td>4086.828</td>\n",
              "      <td>Henry Bacon Dr &amp; Lincoln Memorial Circle NW</td>\n",
              "      <td>24th &amp; N St NW</td>\n",
              "      <td>Customer</td>\n",
              "      <td>1</td>\n",
              "      <td>January</td>\n",
              "      <td>20</td>\n",
              "      <td>Friday</td>\n",
              "    </tr>\n",
              "    <tr>\n",
              "      <th>299997</th>\n",
              "      <td>12860</td>\n",
              "      <td>2017-01-04 14:33:00</td>\n",
              "      <td>2017-01-04 14:43:00</td>\n",
              "      <td>583.897</td>\n",
              "      <td>17th &amp; K St NW / Farragut Square</td>\n",
              "      <td>7th &amp; F St NW/Portrait Gallery</td>\n",
              "      <td>Subscriber</td>\n",
              "      <td>1</td>\n",
              "      <td>January</td>\n",
              "      <td>4</td>\n",
              "      <td>Wednesday</td>\n",
              "    </tr>\n",
              "  </tbody>\n",
              "</table>\n",
              "<p>30053 rows × 11 columns</p>\n",
              "</div>"
            ],
            "text/plain": [
              "        unnamed:_0          start_time  ... day    weekday\n",
              "12          143181 2017-01-26 20:01:00  ...  26   Thursday\n",
              "13           26953 2017-01-06 17:36:00  ...   6     Friday\n",
              "31            1999 2017-01-01 14:40:00  ...   1     Sunday\n",
              "35           34042 2017-01-09 12:29:00  ...   9     Monday\n",
              "36          131497 2017-01-25 15:57:00  ...  25  Wednesday\n",
              "...            ...                 ...  ...  ..        ...\n",
              "299989      102918 2017-01-20 17:43:00  ...  20     Friday\n",
              "299991        8834 2017-01-03 19:28:00  ...   3    Tuesday\n",
              "299992       32912 2017-01-09 08:11:00  ...   9     Monday\n",
              "299994      101489 2017-01-20 14:03:00  ...  20     Friday\n",
              "299997       12860 2017-01-04 14:33:00  ...   4  Wednesday\n",
              "\n",
              "[30053 rows x 11 columns]"
            ]
          },
          "metadata": {
            "tags": []
          },
          "execution_count": 30
        }
      ]
    },
    {
      "cell_type": "markdown",
      "metadata": {
        "id": "vAHpSrnATLdV"
      },
      "source": [
        "# **Visualization**\n",
        "\n",
        "Let's plot a bar graph of trip frequencies by user type and by gender."
      ]
    },
    {
      "cell_type": "code",
      "metadata": {
        "colab": {
          "base_uri": "https://localhost:8080/",
          "height": 326
        },
        "id": "IwcLxlMRYjK1",
        "outputId": "f9adee3f-7f0a-42fc-9f26-e3a9d287b759"
      },
      "source": [
        "plt.subplot(1,2,1)\n",
        "groupby_user_chi = chicago_df.groupby('user_type').size()\n",
        "groupby_user_chi.plot(kind='bar', title='Distribution of User Types for Chicago', rot=45, color=['red', 'blue', 'green']);\n",
        "\n",
        "plt.subplot(1,2,2)\n",
        "groupby_gender = chicago_df.groupby('gender').size()\n",
        "groupby_gender.plot(kind='bar', title='Distribution of genders for Chicago', rot=45, color=['red', 'blue']);\n"
      ],
      "execution_count": null,
      "outputs": [
        {
          "output_type": "display_data",
          "data": {
            "image/png": "[encoded data removed]",
            "text/plain": [
              "<Figure size 432x288 with 2 Axes>"
            ]
          },
          "metadata": {
            "tags": [],
            "needs_background": "light"
          }
        }
      ]
    },
    {
      "cell_type": "code",
      "metadata": {
        "colab": {
          "base_uri": "https://localhost:8080/",
          "height": 324
        },
        "id": "g96H6HzCdN9o",
        "outputId": "5555a164-c939-40fa-b652-a5466e34b07f"
      },
      "source": [
        "# Let's plot the Distribution of genders for NYC\n",
        "plt.subplot(1,2,1)\n",
        "groupby_user_chi = new_york_city_df.groupby('user_type').size()\n",
        "groupby_user_chi.plot(kind='bar',title='Distribution of User Types for NYC', rot=45, color=['red', 'blue', 'green']);\n",
        "\n",
        "plt.subplot(1,2,2)\n",
        "groupby_gender = new_york_city_df.groupby('gender').size()\n",
        "groupby_gender.plot(kind='bar', title='Distribution of genders for NYC', rot=45, color=['red', 'blue'],);"
      ],
      "execution_count": null,
      "outputs": [
        {
          "output_type": "display_data",
          "data": {
            "image/png": "[encoded data removed]",
            "text/plain": [
              "<Figure size 432x288 with 2 Axes>"
            ]
          },
          "metadata": {
            "tags": [],
            "needs_background": "light"
          }
        }
      ]
    },
    {
      "cell_type": "code",
      "metadata": {
        "colab": {
          "base_uri": "https://localhost:8080/",
          "height": 324
        },
        "id": "HuWu3A1CdPBF",
        "outputId": "3fb01c6f-d3fd-428d-9e5e-41b5ec5bb7dc"
      },
      "source": [
        "# plotting the Distribution of genders for washington\n",
        "plt.subplot(1,2,1)\n",
        "groupby_user_chi = washington_df.groupby('user_type').size()\n",
        "groupby_user_chi.plot(kind='bar',title='Distribution of User Types for Washington', rot=45, color= ['red', 'blue']);\n"
      ],
      "execution_count": null,
      "outputs": [
        {
          "output_type": "display_data",
          "data": {
            "image/png": "[encoded data removed]",
            "text/plain": [
              "<Figure size 432x288 with 1 Axes>"
            ]
          },
          "metadata": {
            "tags": [],
            "needs_background": "light"
          }
        }
      ]
    },
    {
      "cell_type": "code",
      "metadata": {
        "colab": {
          "base_uri": "https://localhost:8080/",
          "height": 315
        },
        "id": "9tT38E0Je9YC",
        "outputId": "66536005-b2ff-4986-9e01-46cb56d25cfc"
      },
      "source": [
        "# Also, let's see the Distribution of birth years for all 3 Cities\n",
        "Bike_share_df = Bike_share_df.sort_values(by='birth_year')\n",
        "groupby_birthyear = Bike_share_df.groupby('birth_year').size()\n",
        "groupby_birthyear.plot(kind='bar', title='Distribution of birth years for all 3 Cities',color= 'blue' , figsize=(16,4));\n",
        "plt.xlabel('Birth Year');\n",
        "plt.ylabel('Count of users');"
      ],
      "execution_count": null,
      "outputs": [
        {
          "output_type": "display_data",
          "data": {
            "image/png": "[encoded data removed]",
            "text/plain": [
              "<Figure size 1152x288 with 1 Axes>"
            ]
          },
          "metadata": {
            "tags": [],
            "needs_background": "light"
          }
        }
      ]
    },
    {
      "cell_type": "markdown",
      "metadata": {
        "id": "yJlf_KfGhVtj"
      },
      "source": [
        "## Plotting the Distribution of Birth Years by Gender Type:"
      ]
    },
    {
      "cell_type": "code",
      "metadata": {
        "colab": {
          "base_uri": "https://localhost:8080/",
          "height": 315
        },
        "id": "SgNzDK5wgJH6",
        "outputId": "4013dd26-cd70-4f64-95b5-718a13b16b0d"
      },
      "source": [
        "groupby_birthyear_gender = Bike_share_df.groupby(['birth_year', 'gender'])['birth_year'].count().unstack('gender').fillna(0)\n",
        "groupby_birthyear_gender.plot(kind='bar', title='Distribution of all birth years by gender', \n",
        "                              stacked=True, figsize=(16,4), color=['red', 'blue']);\n",
        "plt.xlabel('Birth Year');\n",
        "plt.ylabel('Count of users');"
      ],
      "execution_count": null,
      "outputs": [
        {
          "output_type": "display_data",
          "data": {
            "image/png": "[encoded data removed]",
            "text/plain": [
              "<Figure size 1152x288 with 1 Axes>"
            ]
          },
          "metadata": {
            "tags": [],
            "needs_background": "light"
          }
        }
      ]
    },
    {
      "cell_type": "markdown",
      "metadata": {
        "id": "QHdjzLYuhPeZ"
      },
      "source": [
        "**Are you interested in seeing how the trips vary across date and time (i.e., a time series analysis)?**\n",
        "\n",
        "Let's answer some questions:\n",
        "\n",
        "What is the distribution of trips by month,day,week and hour?"
      ]
    },
    {
      "cell_type": "code",
      "metadata": {
        "colab": {
          "base_uri": "https://localhost:8080/",
          "height": 729
        },
        "id": "GtPrYf4Vgq6Y",
        "outputId": "ff337f0d-a768-4e92-efae-e2c3b0ef34e8"
      },
      "source": [
        "data = Bike_share_df.set_index('start_time')\n",
        "plt.figure(figsize=(16,12))\n",
        "\n",
        "plt.subplot(2,2,1)\n",
        "data.groupby(data.index.month)['trip_duration'].count().plot.bar(\n",
        "    title='Distribution of the number of trips per month', rot=0)\n",
        "plt.xlabel('Month');\n",
        "plt.ylabel('number of trips');\n",
        "\n",
        "plt.subplot(2,2,2)\n",
        "data.groupby(data.index.day)['trip_duration'].count().plot.bar(\n",
        "    title='Distribution of the number of trips per day', rot=0)\n",
        "plt.xlabel('Day');\n",
        "plt.ylabel('number of trips');\n",
        "\n",
        "ax = plt.subplot(2,2,3)\n",
        "data.groupby(data.index.weekday)['trip_duration'].count().plot.bar(\n",
        "    title='Distribution of the number of trips per week', rot=0)\n",
        "plt.xlabel('weekday');\n",
        "plt.ylabel('number of trips');\n",
        "ax.set_xticklabels(['Monday', 'Tuesday', 'Wednesday', 'Thursday', 'Friday', 'Saturday', 'Sunday'])\n",
        "\n",
        "\n",
        "plt.subplot(2,2,4)\n",
        "data.groupby(data.index.hour)['trip_duration'].count().plot.bar(\n",
        "    title='Distribution of the number of trips per hour', rot=0)\n",
        "plt.xlabel('Hour');\n",
        "plt.ylabel('number of trips');"
      ],
      "execution_count": null,
      "outputs": [
        {
          "output_type": "display_data",
          "data": {
            "image/png": "[encoded data removed]",
            "text/plain": [
              "<Figure size 1152x864 with 4 Axes>"
            ]
          },
          "metadata": {
            "tags": [],
            "needs_background": "light"
          }
        }
      ]
    },
    {
      "cell_type": "markdown",
      "metadata": {
        "id": "LJWrlBS3oguu"
      },
      "source": [
        "## **Lastly, Let's plot the average trip duration per Age of users**"
      ]
    },
    {
      "cell_type": "code",
      "metadata": {
        "id": "s23AOx_EvN_y"
      },
      "source": [
        "#This is to Create the column 'Age'\n",
        "import datetime\n",
        "from dateutil.relativedelta import relativedelta\n",
        "\n",
        "#To begin, we need to convert the values of our trip duration to hours\n",
        "NYC_Chicago_df = pd.concat([chicago_df, new_york_city_df])\n",
        "NYC_Chicago_df[\"trip_duration_hr\"] = NYC_Chicago_df[\"trip_duration\"]/60\n",
        "\n",
        "#Then let's get the date for today\n",
        "today = datetime.date.today()\n",
        "\n",
        "#Now we can define a function that converts the year of birth to derive the actual age of users\n",
        "def rowToAge(row):\n",
        "   if row['birth_year'] > 0:\n",
        "       birthDayOfPerson = datetime.datetime(row['birth_year'], row['month'], row['day'])\n",
        "       age = relativedelta(today, birthDayOfPerson).years\n",
        "       return age\n",
        "\n",
        "#Assign this to a new column called 'Age'\n",
        "NYC_Chicago_df['age'] = NYC_Chicago_df.apply(rowToAge, axis=1)"
      ],
      "execution_count": null,
      "outputs": []
    },
    {
      "cell_type": "code",
      "metadata": {
        "colab": {
          "base_uri": "https://localhost:8080/",
          "height": 488
        },
        "id": "D2wKv3tqkD3L",
        "outputId": "1c7cdc98-291e-429c-c90e-dfaaee04850b"
      },
      "source": [
        "#Finally, we can plot the distribution of the avergae trip per age of the user.\n",
        "groupby_age_triDur = NYC_Chicago_df.groupby(['age'])['trip_duration_hr'].mean()\n",
        "\n",
        "groupby_age_triDur.plot(kind='bar', title='Distribution of birth years by gender', \n",
        "                              stacked=False, figsize=(26,10), color=['blue']);\n",
        "plt.xlabel('Trip Duration');\n",
        "plt.ylabel('Age');"
      ],
      "execution_count": null,
      "outputs": [
        {
          "output_type": "display_data",
          "data": {
            "image/png": "[encoded data removed]",
            "text/plain": [
              "<Figure size 1872x720 with 1 Axes>"
            ]
          },
          "metadata": {
            "tags": [],
            "needs_background": "light"
          }
        }
      ]
    },
    {
      "cell_type": "markdown",
      "metadata": {
        "id": "sEBuor8zPT7s"
      },
      "source": [
        "\n",
        "## **Conclusion**: \n",
        "The total Usage within January to June 2017 was 899308 with about 728824 Subscribers, 170483 Customers, and 1 Dependant. The data also clearly shows that we have more Subscribers than Customers in each of the months.\n",
        "Also, we can say that the highest number of users were found in the month of june with a high number of millenials which are people born within the year 1981 and 1994. I found that the most common birth year and gender are people born in 1989 and 'Males'. Lastly, I also discovered that wednesdays have a higher record of bike usage while the most frequent hour of the day is at 8am and 5pm. \n",
        "\n"
      ]
    },
    {
      "cell_type": "markdown",
      "metadata": {
        "id": "bm0s5oMRuB1t"
      },
      "source": [
        "## **Recommendation** \n",
        "Based on the insights gotten from this data, I can recommend that the company introduces loyalty programs that can convert their one time customers to active subscribers and increase  promotions on others days of the week that have less usage.\n",
        "Another suggestion would be to generate more revenue for the company by placing externally sponsored advertisements on their platform (Application, website, etc.) on wednesdays which is the day of the week with the most usage. \n",
        "Lastly, increase promotions for the divvy bikes, targeting their major market segments (**\"The Milllenials\"**)."
      ]
    },
    {
      "cell_type": "code",
      "metadata": {
        "id": "xVpL9gpX1QTz"
      },
      "source": [
        ""
      ],
      "execution_count": null,
      "outputs": []
    }
  ]
}